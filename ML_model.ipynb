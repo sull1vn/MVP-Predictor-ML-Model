{
 "cells": [
  {
   "cell_type": "code",
   "execution_count": 2,
   "id": "8493969c-1252-4ff7-8d18-ec1d6094bae1",
   "metadata": {},
   "outputs": [],
   "source": [
    "import pandas as pd\n",
    "\n",
    "import joblib\n",
    "\n",
    "from sklearn.model_selection import train_test_split\n",
    "\n",
    "from sklearn.tree import DecisionTreeClassifier\n",
    "\n",
    "import pickle"
   ]
  },
  {
   "cell_type": "code",
   "execution_count": 3,
   "id": "6683ac38-f430-4585-a5a6-4dcc5f1c02a8",
   "metadata": {},
   "outputs": [],
   "source": [
    "path_name = 'redacted'"
   ]
  },
  {
   "cell_type": "code",
   "execution_count": 4,
   "id": "714fd1d6-3f5f-45d1-a95b-be50e002d9dd",
   "metadata": {},
   "outputs": [],
   "source": [
    "df = pd.read_csv(path_name)"
   ]
  },
  {
   "cell_type": "code",
   "execution_count": 5,
   "id": "42fece1d-e43b-402c-a010-7137e085259a",
   "metadata": {},
   "outputs": [
    {
     "data": {
      "text/html": [
       "<div>\n",
       "<style scoped>\n",
       "    .dataframe tbody tr th:only-of-type {\n",
       "        vertical-align: middle;\n",
       "    }\n",
       "\n",
       "    .dataframe tbody tr th {\n",
       "        vertical-align: top;\n",
       "    }\n",
       "\n",
       "    .dataframe thead th {\n",
       "        text-align: right;\n",
       "    }\n",
       "</style>\n",
       "<table border=\"1\" class=\"dataframe\">\n",
       "  <thead>\n",
       "    <tr style=\"text-align: right;\">\n",
       "      <th></th>\n",
       "      <th>PYARDS</th>\n",
       "      <th>TD</th>\n",
       "      <th>INT</th>\n",
       "      <th>CMP%</th>\n",
       "      <th>RYARD</th>\n",
       "      <th>RYA</th>\n",
       "      <th>RTD</th>\n",
       "      <th>REC</th>\n",
       "      <th>Y/A</th>\n",
       "      <th>MVP</th>\n",
       "      <th>YEAR</th>\n",
       "    </tr>\n",
       "  </thead>\n",
       "  <tbody>\n",
       "    <tr>\n",
       "      <th>0</th>\n",
       "      <td>3966</td>\n",
       "      <td>28</td>\n",
       "      <td>12</td>\n",
       "      <td>62.6</td>\n",
       "      <td>89</td>\n",
       "      <td>2.3</td>\n",
       "      <td>0</td>\n",
       "      <td>60.0</td>\n",
       "      <td>7.1</td>\n",
       "      <td>0</td>\n",
       "      <td>2007</td>\n",
       "    </tr>\n",
       "    <tr>\n",
       "      <th>1</th>\n",
       "      <td>4611</td>\n",
       "      <td>34</td>\n",
       "      <td>14</td>\n",
       "      <td>70.4</td>\n",
       "      <td>118</td>\n",
       "      <td>3.0</td>\n",
       "      <td>2</td>\n",
       "      <td>62.5</td>\n",
       "      <td>8.9</td>\n",
       "      <td>0</td>\n",
       "      <td>2021</td>\n",
       "    </tr>\n",
       "    <tr>\n",
       "      <th>2</th>\n",
       "      <td>4432</td>\n",
       "      <td>35</td>\n",
       "      <td>14</td>\n",
       "      <td>62.6</td>\n",
       "      <td>61</td>\n",
       "      <td>3.1</td>\n",
       "      <td>0</td>\n",
       "      <td>60.0</td>\n",
       "      <td>7.2</td>\n",
       "      <td>0</td>\n",
       "      <td>2015</td>\n",
       "    </tr>\n",
       "    <tr>\n",
       "      <th>3</th>\n",
       "      <td>4418</td>\n",
       "      <td>26</td>\n",
       "      <td>11</td>\n",
       "      <td>64.3</td>\n",
       "      <td>32</td>\n",
       "      <td>0.8</td>\n",
       "      <td>0</td>\n",
       "      <td>60.0</td>\n",
       "      <td>8.0</td>\n",
       "      <td>0</td>\n",
       "      <td>2006</td>\n",
       "    </tr>\n",
       "    <tr>\n",
       "      <th>4</th>\n",
       "      <td>4577</td>\n",
       "      <td>32</td>\n",
       "      <td>8</td>\n",
       "      <td>66.3</td>\n",
       "      <td>28</td>\n",
       "      <td>1.1</td>\n",
       "      <td>0</td>\n",
       "      <td>81.2</td>\n",
       "      <td>7.9</td>\n",
       "      <td>1</td>\n",
       "      <td>2017</td>\n",
       "    </tr>\n",
       "    <tr>\n",
       "      <th>...</th>\n",
       "      <td>...</td>\n",
       "      <td>...</td>\n",
       "      <td>...</td>\n",
       "      <td>...</td>\n",
       "      <td>...</td>\n",
       "      <td>...</td>\n",
       "      <td>...</td>\n",
       "      <td>...</td>\n",
       "      <td>...</td>\n",
       "      <td>...</td>\n",
       "      <td>...</td>\n",
       "    </tr>\n",
       "    <tr>\n",
       "      <th>79</th>\n",
       "      <td>4917</td>\n",
       "      <td>25</td>\n",
       "      <td>12</td>\n",
       "      <td>67.0</td>\n",
       "      <td>96</td>\n",
       "      <td>2.8</td>\n",
       "      <td>4</td>\n",
       "      <td>53.3</td>\n",
       "      <td>8.1</td>\n",
       "      <td>0</td>\n",
       "      <td>2016</td>\n",
       "    </tr>\n",
       "    <tr>\n",
       "      <th>80</th>\n",
       "      <td>5476</td>\n",
       "      <td>46</td>\n",
       "      <td>14</td>\n",
       "      <td>71.2</td>\n",
       "      <td>86</td>\n",
       "      <td>4.1</td>\n",
       "      <td>1</td>\n",
       "      <td>81.3</td>\n",
       "      <td>8.3</td>\n",
       "      <td>0</td>\n",
       "      <td>2011</td>\n",
       "    </tr>\n",
       "    <tr>\n",
       "      <th>81</th>\n",
       "      <td>3819</td>\n",
       "      <td>33</td>\n",
       "      <td>7</td>\n",
       "      <td>65.5</td>\n",
       "      <td>266</td>\n",
       "      <td>6.2</td>\n",
       "      <td>7</td>\n",
       "      <td>68.8</td>\n",
       "      <td>7.9</td>\n",
       "      <td>0</td>\n",
       "      <td>2020</td>\n",
       "    </tr>\n",
       "    <tr>\n",
       "      <th>82</th>\n",
       "      <td>4952</td>\n",
       "      <td>32</td>\n",
       "      <td>9</td>\n",
       "      <td>67.1</td>\n",
       "      <td>27</td>\n",
       "      <td>1.7</td>\n",
       "      <td>0</td>\n",
       "      <td>68.8</td>\n",
       "      <td>8.1</td>\n",
       "      <td>0</td>\n",
       "      <td>2014</td>\n",
       "    </tr>\n",
       "    <tr>\n",
       "      <th>83</th>\n",
       "      <td>4137</td>\n",
       "      <td>30</td>\n",
       "      <td>21</td>\n",
       "      <td>59.3</td>\n",
       "      <td>-24</td>\n",
       "      <td>-0.9</td>\n",
       "      <td>0</td>\n",
       "      <td>75.0</td>\n",
       "      <td>7.3</td>\n",
       "      <td>0</td>\n",
       "      <td>1985</td>\n",
       "    </tr>\n",
       "  </tbody>\n",
       "</table>\n",
       "<p>84 rows × 11 columns</p>\n",
       "</div>"
      ],
      "text/plain": [
       "    PYARDS  TD  INT  CMP%  RYARD  RYA  RTD   REC  Y/A  MVP  YEAR\n",
       "0     3966  28   12  62.6     89  2.3    0  60.0  7.1    0  2007\n",
       "1     4611  34   14  70.4    118  3.0    2  62.5  8.9    0  2021\n",
       "2     4432  35   14  62.6     61  3.1    0  60.0  7.2    0  2015\n",
       "3     4418  26   11  64.3     32  0.8    0  60.0  8.0    0  2006\n",
       "4     4577  32    8  66.3     28  1.1    0  81.2  7.9    1  2017\n",
       "..     ...  ..  ...   ...    ...  ...  ...   ...  ...  ...   ...\n",
       "79    4917  25   12  67.0     96  2.8    4  53.3  8.1    0  2016\n",
       "80    5476  46   14  71.2     86  4.1    1  81.3  8.3    0  2011\n",
       "81    3819  33    7  65.5    266  6.2    7  68.8  7.9    0  2020\n",
       "82    4952  32    9  67.1     27  1.7    0  68.8  8.1    0  2014\n",
       "83    4137  30   21  59.3    -24 -0.9    0  75.0  7.3    0  1985\n",
       "\n",
       "[84 rows x 11 columns]"
      ]
     },
     "execution_count": 5,
     "metadata": {},
     "output_type": "execute_result"
    }
   ],
   "source": [
    "df"
   ]
  },
  {
   "cell_type": "code",
   "execution_count": 6,
   "id": "6f830cdf-c729-4420-8db7-7216c21fedec",
   "metadata": {},
   "outputs": [
    {
     "name": "stdout",
     "output_type": "stream",
     "text": [
      "<class 'pandas.core.frame.DataFrame'>\n",
      "RangeIndex: 84 entries, 0 to 83\n",
      "Data columns (total 11 columns):\n",
      " #   Column  Non-Null Count  Dtype  \n",
      "---  ------  --------------  -----  \n",
      " 0   PYARDS  84 non-null     int64  \n",
      " 1   TD      84 non-null     int64  \n",
      " 2   INT     84 non-null     int64  \n",
      " 3   CMP%    84 non-null     float64\n",
      " 4   RYARD   84 non-null     int64  \n",
      " 5   RYA     84 non-null     float64\n",
      " 6   RTD     84 non-null     int64  \n",
      " 7   REC     84 non-null     float64\n",
      " 8   Y/A     84 non-null     float64\n",
      " 9   MVP     84 non-null     int64  \n",
      " 10  YEAR    84 non-null     int64  \n",
      "dtypes: float64(4), int64(7)\n",
      "memory usage: 7.3 KB\n"
     ]
    }
   ],
   "source": [
    "df.info()"
   ]
  },
  {
   "cell_type": "code",
   "execution_count": 11,
   "id": "906cde98-51b2-44a8-9b1c-b2cd62d904bd",
   "metadata": {},
   "outputs": [],
   "source": [
    "xc = ['PYARDS', 'TD', 'INT', 'CMP%', 'RYARD', 'RYA', 'RTD', 'REC', 'Y/A', 'YEAR']\n",
    "y = [0, 1]\n",
    "\n",
    "all_inputs = df[xc]\n",
    "all_classes = df['MVP']"
   ]
  },
  {
   "cell_type": "code",
   "execution_count": 19,
   "id": "d2f20b1d-2804-43e8-980c-865ea56e3e2c",
   "metadata": {},
   "outputs": [],
   "source": [
    "(x_train, x_test, y_train, y_test) = train_test_split(all_inputs, all_classes, train_size = 0.6)"
   ]
  },
  {
   "cell_type": "code",
   "execution_count": 20,
   "id": "2809281f-69f8-483b-968e-3a5c3dcd9e6c",
   "metadata": {},
   "outputs": [],
   "source": [
    "clf = DecisionTreeClassifier(random_state = 0)"
   ]
  },
  {
   "cell_type": "code",
   "execution_count": 21,
   "id": "7d9825c6-f864-40f3-82f8-4783be6d52d2",
   "metadata": {},
   "outputs": [
    {
     "data": {
      "text/html": [
       "<style>#sk-container-id-2 {color: black;}#sk-container-id-2 pre{padding: 0;}#sk-container-id-2 div.sk-toggleable {background-color: white;}#sk-container-id-2 label.sk-toggleable__label {cursor: pointer;display: block;width: 100%;margin-bottom: 0;padding: 0.3em;box-sizing: border-box;text-align: center;}#sk-container-id-2 label.sk-toggleable__label-arrow:before {content: \"▸\";float: left;margin-right: 0.25em;color: #696969;}#sk-container-id-2 label.sk-toggleable__label-arrow:hover:before {color: black;}#sk-container-id-2 div.sk-estimator:hover label.sk-toggleable__label-arrow:before {color: black;}#sk-container-id-2 div.sk-toggleable__content {max-height: 0;max-width: 0;overflow: hidden;text-align: left;background-color: #f0f8ff;}#sk-container-id-2 div.sk-toggleable__content pre {margin: 0.2em;color: black;border-radius: 0.25em;background-color: #f0f8ff;}#sk-container-id-2 input.sk-toggleable__control:checked~div.sk-toggleable__content {max-height: 200px;max-width: 100%;overflow: auto;}#sk-container-id-2 input.sk-toggleable__control:checked~label.sk-toggleable__label-arrow:before {content: \"▾\";}#sk-container-id-2 div.sk-estimator input.sk-toggleable__control:checked~label.sk-toggleable__label {background-color: #d4ebff;}#sk-container-id-2 div.sk-label input.sk-toggleable__control:checked~label.sk-toggleable__label {background-color: #d4ebff;}#sk-container-id-2 input.sk-hidden--visually {border: 0;clip: rect(1px 1px 1px 1px);clip: rect(1px, 1px, 1px, 1px);height: 1px;margin: -1px;overflow: hidden;padding: 0;position: absolute;width: 1px;}#sk-container-id-2 div.sk-estimator {font-family: monospace;background-color: #f0f8ff;border: 1px dotted black;border-radius: 0.25em;box-sizing: border-box;margin-bottom: 0.5em;}#sk-container-id-2 div.sk-estimator:hover {background-color: #d4ebff;}#sk-container-id-2 div.sk-parallel-item::after {content: \"\";width: 100%;border-bottom: 1px solid gray;flex-grow: 1;}#sk-container-id-2 div.sk-label:hover label.sk-toggleable__label {background-color: #d4ebff;}#sk-container-id-2 div.sk-serial::before {content: \"\";position: absolute;border-left: 1px solid gray;box-sizing: border-box;top: 0;bottom: 0;left: 50%;z-index: 0;}#sk-container-id-2 div.sk-serial {display: flex;flex-direction: column;align-items: center;background-color: white;padding-right: 0.2em;padding-left: 0.2em;position: relative;}#sk-container-id-2 div.sk-item {position: relative;z-index: 1;}#sk-container-id-2 div.sk-parallel {display: flex;align-items: stretch;justify-content: center;background-color: white;position: relative;}#sk-container-id-2 div.sk-item::before, #sk-container-id-2 div.sk-parallel-item::before {content: \"\";position: absolute;border-left: 1px solid gray;box-sizing: border-box;top: 0;bottom: 0;left: 50%;z-index: -1;}#sk-container-id-2 div.sk-parallel-item {display: flex;flex-direction: column;z-index: 1;position: relative;background-color: white;}#sk-container-id-2 div.sk-parallel-item:first-child::after {align-self: flex-end;width: 50%;}#sk-container-id-2 div.sk-parallel-item:last-child::after {align-self: flex-start;width: 50%;}#sk-container-id-2 div.sk-parallel-item:only-child::after {width: 0;}#sk-container-id-2 div.sk-dashed-wrapped {border: 1px dashed gray;margin: 0 0.4em 0.5em 0.4em;box-sizing: border-box;padding-bottom: 0.4em;background-color: white;}#sk-container-id-2 div.sk-label label {font-family: monospace;font-weight: bold;display: inline-block;line-height: 1.2em;}#sk-container-id-2 div.sk-label-container {text-align: center;}#sk-container-id-2 div.sk-container {/* jupyter's `normalize.less` sets `[hidden] { display: none; }` but bootstrap.min.css set `[hidden] { display: none !important; }` so we also need the `!important` here to be able to override the default hidden behavior on the sphinx rendered scikit-learn.org. See: https://github.com/scikit-learn/scikit-learn/issues/21755 */display: inline-block !important;position: relative;}#sk-container-id-2 div.sk-text-repr-fallback {display: none;}</style><div id=\"sk-container-id-2\" class=\"sk-top-container\"><div class=\"sk-text-repr-fallback\"><pre>DecisionTreeClassifier(random_state=0)</pre><b>In a Jupyter environment, please rerun this cell to show the HTML representation or trust the notebook. <br />On GitHub, the HTML representation is unable to render, please try loading this page with nbviewer.org.</b></div><div class=\"sk-container\" hidden><div class=\"sk-item\"><div class=\"sk-estimator sk-toggleable\"><input class=\"sk-toggleable__control sk-hidden--visually\" id=\"sk-estimator-id-2\" type=\"checkbox\" checked><label for=\"sk-estimator-id-2\" class=\"sk-toggleable__label sk-toggleable__label-arrow\">DecisionTreeClassifier</label><div class=\"sk-toggleable__content\"><pre>DecisionTreeClassifier(random_state=0)</pre></div></div></div></div></div>"
      ],
      "text/plain": [
       "DecisionTreeClassifier(random_state=0)"
      ]
     },
     "execution_count": 21,
     "metadata": {},
     "output_type": "execute_result"
    }
   ],
   "source": [
    "clf.fit(x_train, y_train)"
   ]
  },
  {
   "cell_type": "code",
   "execution_count": 22,
   "id": "4e2be0d9-a4c1-4548-86bd-d215b38811fa",
   "metadata": {},
   "outputs": [],
   "source": [
    "predictions = clf.predict(x_test).tolist()"
   ]
  },
  {
   "cell_type": "code",
   "execution_count": 23,
   "id": "5e716373-0a87-41ee-895e-80bae1a5a10f",
   "metadata": {},
   "outputs": [
    {
     "name": "stdout",
     "output_type": "stream",
     "text": [
      "[1, 0, 0, 0, 0, 0, 0, 0, 1, 1, 0, 0, 0, 0, 1, 0, 0, 0, 1, 0, 0, 0, 0, 0, 0, 0, 0, 0, 0, 0, 0, 1, 0, 1]\n"
     ]
    }
   ],
   "source": [
    "print(predictions)"
   ]
  },
  {
   "cell_type": "code",
   "execution_count": 25,
   "id": "597c5dfb-677e-49ab-bda8-62aa62465d67",
   "metadata": {},
   "outputs": [
    {
     "name": "stdout",
     "output_type": "stream",
     "text": [
      "Maximum Tree Depth: 5\n"
     ]
    }
   ],
   "source": [
    "tree_depth = clf.tree_.max_depth\n",
    "\n",
    "print(\"Maximum Tree Depth:\", tree_depth)"
   ]
  },
  {
   "cell_type": "code",
   "execution_count": 24,
   "id": "65c7d088-133d-4356-898d-26d4a95382f4",
   "metadata": {},
   "outputs": [
    {
     "name": "stdout",
     "output_type": "stream",
     "text": [
      "0.7941176470588235\n"
     ]
    }
   ],
   "source": [
    "score = clf.score(x_test, y_test)\n",
    "print(score)"
   ]
  },
  {
   "cell_type": "code",
   "execution_count": 11,
   "id": "769f1fc8-209f-40b2-a619-7146853fb359",
   "metadata": {},
   "outputs": [],
   "source": []
  },
  {
   "cell_type": "code",
   "execution_count": null,
   "id": "6fe4cdfe-8fb1-4fec-b357-66b174de4a6a",
   "metadata": {},
   "outputs": [],
   "source": []
  }
 ],
 "metadata": {
  "kernelspec": {
   "display_name": "Python 3 (ipykernel)",
   "language": "python",
   "name": "python3"
  },
  "language_info": {
   "codemirror_mode": {
    "name": "ipython",
    "version": 3
   },
   "file_extension": ".py",
   "mimetype": "text/x-python",
   "name": "python",
   "nbconvert_exporter": "python",
   "pygments_lexer": "ipython3",
   "version": "3.10.6"
  }
 },
 "nbformat": 4,
 "nbformat_minor": 5
}
